{
 "cells": [
  {
   "cell_type": "code",
   "execution_count": 215,
   "id": "b6208191",
   "metadata": {},
   "outputs": [
    {
     "name": "stdout",
     "output_type": "stream",
     "text": [
      "The autoreload extension is already loaded. To reload it, use:\n",
      "  %reload_ext autoreload\n"
     ]
    }
   ],
   "source": [
    "import pandas as pd \n",
    "import numpy as np \n",
    "import os\n",
    "import glob\n",
    "import subprocess\n",
    "from tqdm import tqdm\n",
    "import itertools\n",
    "import networkx as nx\n",
    "import seaborn as sns\n",
    "import matplotlib as mpl\n",
    "from matplotlib.patches import Rectangle\n",
    "import matplotlib.pyplot as plt\n",
    "import math\n",
    "import re\n",
    "from utils import * \n",
    "from src.data import * \n",
    "import json\n",
    "import sklearn\n",
    "import io \n",
    "\n",
    "%load_ext autoreload\n",
    "%autoreload 2"
   ]
  },
  {
   "cell_type": "code",
   "execution_count": 216,
   "id": "367a5b20",
   "metadata": {},
   "outputs": [],
   "source": [
    "def load_align(path:str):\n",
    "    cols = ['query', 'target', 'evalue', 'pident', 'bits', 'qseq', 'tseq', 'alnlen', 'qstart', 'qend', 'tstart', 'tend', 'mismatch','gapopen']\n",
    "    # cols = ['query', 'target', 'evalue', 'pident', 'bits', 'qseq', 'tseq', 'alnlen', 'qstart', 'qend', 'tstart', 'tend', 'qaln', 'taln']\n",
    "    align_df = pd.read_csv(path, sep='\\t', header=None, names=cols)\n",
    "    align_df = align_df[align_df.bits > 50].copy()\n",
    "    align_df['start_offset'] = np.abs(align_df.qstart - align_df.tstart)\n",
    "    align_df['alignment_id'] = [' - '.join(sorted([row.target, row.query])) for row in align_df.itertuples()]\n",
    "    align_df = align_df[align_df['query'] != align_df['target']].copy() # Drop self-alignments.\n",
    "    align_df = align_df.sort_values('bits').drop_duplicates('alignment_id') # Drop duplicate alignments.\n",
    "    return align_df"
   ]
  },
  {
   "cell_type": "code",
   "execution_count": 217,
   "id": "2efb91e2",
   "metadata": {},
   "outputs": [],
   "source": [
    "# NOTE: I modified some of the plasmid file names for consistency with the metadata, e.g. pTiS4 to S4_ti\n",
    "# TODO: What is the Atu or Avi prefix? Should I not have changed those?\n",
    "\n",
    "metadata_df = load_weisberg_2020_metadata()"
   ]
  },
  {
   "cell_type": "code",
   "execution_count": 218,
   "id": "9ff6f748",
   "metadata": {},
   "outputs": [
    {
     "name": "stderr",
     "output_type": "stream",
     "text": [
      "Running HMMs on plasmids...: 100%|██████████| 142/142 [00:00<00:00, 156200.15it/s]\n"
     ]
    }
   ],
   "source": [
    "for path in glob.glob('../data/data-1/ncbi/genbank/*'):\n",
    "    fasta_path = os.path.basename(path).replace('.gbk', '.fn')\n",
    "    fasta_path = os.path.join('../data/data-1/ncbi/fasta/', fasta_path)\n",
    "    if not os.path.exists(fasta_path):\n",
    "        print(f'Writing FASTA nucleotide file to {fasta_path}')\n",
    "        file = GBKFile(path)\n",
    "        file.to_fasta(fmt='nt', path=fasta_path)\n",
    "\n",
    "# Created HMM library by concatenating individual HMM filed into library.hmm.\n",
    "# Had to manually-remove a string containing \"ELEMENTS OF EXTERNAL ORIGIN;\" because it caused issues with parsing. \n",
    "for path in tqdm(glob.glob('../data/data-1/ncbi/fasta/*'), 'Running HMMs on plasmids...'):\n",
    "    source_id = os.path.basename(path).replace('.fn', '')\n",
    "    output_path = f'../data/data-1/hmmer/{source_id}.tsv'\n",
    "    if not os.path.exists(output_path):\n",
    "        subprocess.run(f'nhmmer -E 10 --tblout {output_path} ../data/data-1/hmms/library.hmm {path}', shell=True, check=True, stdout=subprocess.DEVNULL)"
   ]
  },
  {
   "cell_type": "code",
   "execution_count": 294,
   "id": "bae75e39",
   "metadata": {},
   "outputs": [
    {
     "name": "stdout",
     "output_type": "stream",
     "text": [
      "load_hmmer: Num. hits for query T-DNA_left_border: 296\n",
      "load_hmmer: Num. hits for query T-DNA_right_border: 426\n",
      "load_hmmer: Num. hits for query overdrive: 43\n"
     ]
    },
    {
     "data": {
      "image/png": "[encoded data removed]",
      "text/plain": [
       "<Figure size 1000x120 with 1 Axes>"
      ]
     },
     "metadata": {},
     "output_type": "display_data"
    }
   ],
   "source": [
    "# right_border_counts = borders_df[borders_df.annotation.str.contains('right_border')].source_id.value_counts()\n",
    "# left_border_counts = borders_df[borders_df.annotation.str.contains('left_border')].source_id.value_counts()\n",
    "# right_border_counts = right_border_counts[right_border_counts > 3]\n",
    "# right_border_counts\n",
    "# left_border_counts\n",
    "\n",
    "def filter_right_borders(target_df:pd.DataFrame):\n",
    "\n",
    "    get_next = lambda i : 'none' if (i == (len(target_df) - 1)) else target_df.iloc[i + 1].annotation\n",
    "    get_previous = lambda i : 'none' if (i == 0) else target_df.iloc[i - 1].annotation\n",
    "    \n",
    "    target_df = target_df.sort_values('start')\n",
    "    target_df['previous_annotation'] = [get_previous(i) for i in range(len(target_df))]\n",
    "    target_df['next_annotation'] = [get_next(i) for i in range(len(target_df))]\n",
    "\n",
    "    mask = (target_df.annotation.str.contains('right_border'))\n",
    "    mask = mask & target_df.next_annotation.str.contains('none|left_border')\n",
    "    mask = mask & target_df.previous_annotation.str.contains('none|left_border')\n",
    "    return target_df[mask].copy()\n",
    "\n",
    "def plot_borders(target_df:pd.DataFrame):\n",
    "\n",
    "    fig, ax = plt.subplots(figsize=(10, 1.2))\n",
    "    target_length = target_df.length.iloc[0]\n",
    "\n",
    "    palette = {'T-DNA_right_border':'indianred', 'T-DNA_left_border':'steelblue'}\n",
    "    y = {'T-DNA_right_border':1, 'T-DNA_left_border':-1}\n",
    "\n",
    "    target_df = target_df[target_df.annotation.isin(y)].copy()\n",
    "    resolved_target_df = resolve_borders(target_df, filter_=False)\n",
    "\n",
    "    ax.axhline(xmin=0, xmax=target_length, color='black')\n",
    "\n",
    "    def plot(df, alpha=1):\n",
    "        for annotation, df_ in df.groupby('annotation'):\n",
    "            for row in df_.itertuples():\n",
    "                dx = row.stop - row.start if (row.strand == '+') else -row.stop - row.start\n",
    "                x = row.start if (row.strand == '+') else row.stop \n",
    "                marker = '>' if (row.strand == '+') else '<'\n",
    "                ax.scatter([x], [y[annotation]],color=palette[annotation], s=50, marker=marker, alpha=alpha)\n",
    "\n",
    "    plot(target_df, alpha=0.3)\n",
    "    plot(resolved_target_df, alpha=1)\n",
    "    # ax.set_visible(False)\n",
    "    for _, spine in ax.spines.items():\n",
    "        spine.set_visible(False)\n",
    "\n",
    "hmmer_df = load_hmmer_files(hmmer_dir='../data/data-1/hmmer')\n",
    "# plot_borders(hmmer_df[hmmer_df.target_name == 'JL5166_16'])\n",
    "# plot_borders(hmmer_df[hmmer_df.target_name == 'AS1D6_11']) \n",
    "# plot_borders(hmmer_df[hmmer_df.target_name == 'NC_002575']) \n",
    "plot_borders(hmmer_df[hmmer_df.target_name == 'A4_12']) \n",
    "\n",
    "# For the purposes of detecting potential motifs, require that every valid right border have a corresponding left border"
   ]
  },
  {
   "cell_type": "code",
   "execution_count": 290,
   "id": "11bd90e6",
   "metadata": {},
   "outputs": [
    {
     "name": "stdout",
     "output_type": "stream",
     "text": [
      "load_hmmer: Num. hits for query T-DNA_left_border: 296\n",
      "load_hmmer: Num. hits for query T-DNA_right_border: 426\n",
      "load_hmmer: Num. hits for query overdrive: 43\n",
      "build_overdrive_dataset: Found 193 right borders.\n",
      "build_overdrive_dataset: Found 142 FASTA files.\n"
     ]
    }
   ],
   "source": [
    "hmmer_df = load_hmmer_files(hmmer_dir='../data/data-1/hmmer')\n",
    "overdrive_df = build_overdrive_dataset(overwrite=True, fasta_dir='../data/data-1/ncbi/fasta/', hmmer_df=hmmer_df, length=100, data_dir='../data/data-1/')\n",
    "\n",
    "if 'plasmid_type' not in overdrive_df.columns:\n",
    "    index = overdrive_df.index\n",
    "    overdrive_df = overdrive_df.merge(metadata_df, left_on='source_id', right_on='source_id', how='left')\n",
    "    overdrive_df.index = index # Make sure to restore the index after the merge. \n",
    "\n",
    "overdrive_df.to_csv('../data/data-1/overdrive.csv')\n",
    "FASTAFile(df=overdrive_df).write('../data/data-1/overdrive.fn')\n",
    "\n",
    "virc1_df = build_virc_dataset(overwrite=False, product='VirC1')\n",
    "virc2_df = build_virc_dataset(overwrite=False, product='VirC2')\n",
    "\n",
    "# Identified a handful of cases of detected overdrive variants which seem to multiple (4+) GTGCATCC repeats. I ran a BLASTn search, \n",
    "# and found other similar repeat regions in non-Agro bacteria, which suggests to me that this might be some kind of weird recombination\n",
    "# event or replication slippage. I am going to exclude them from the dataset for now, as they are interfering with motif search. \n",
    "\n",
    "# is_weird_repeat = lambda seq : re.search(r'(GTGCATCC|GTGCCTTC|TGTTCAAT|AGTTCATT){3,}', seq) is not None \n",
    "# print(f'Removing {overdrive_df.seq.apply(is_weird_repeat).sum()} adjacent regions with repeats from the dataset.')\n",
    "# overdrive_df = overdrive_df[~overdrive_df.seq.apply(is_weird_repeat)]\n",
    "\n",
    "# right_border_false_positive_ids = ['JL5166_16:42807-43007', 'JL5166_18:12337-12537', 'JL5166_18:64464-64664', 'AS2E5_10:145466-145666']\n",
    "# overdrive_df = overdrive_df[~overdrive_df.index.isin(right_border_false_positive_ids)]\n",
    "\n",
    "overdrive_df.to_csv('../data/data-1/overdrive.csv')\n",
    "FASTAFile(df=overdrive_df).write('../data/data-1/overdrive.fn')\n",
    "FASTAFile(df=overdrive_df.drop_duplicates('left_of_right_border_seq').drop(columns=['seq']).rename(columns={'left_of_right_border_seq':'seq'})).write('../data/data-1/left_of_right_border.fn')\n"
   ]
  },
  {
   "cell_type": "code",
   "execution_count": 292,
   "id": "cf2cc5ce",
   "metadata": {},
   "outputs": [
    {
     "name": "stdout",
     "output_type": "stream",
     "text": [
      "TGTTTGTTCAATTGTTCAATTGTTCAATTGTTCAATTGTTCAATTGTTAATGTATAAGTTCGTGATGAAGGATGGTTGTTTTAAAAATAGTATGTTTGAC\n",
      "GGTAGATAAATTTGTGTGGAGGTATGTTTGTTTAGGACGGCGGTGATGATGGCTTGCGCCTTACGTCCCGAAAGCAGTCCACGAAGACAATTGCAATATC\n"
     ]
    }
   ],
   "source": [
    "for seq in overdrive_df[overdrive_df.contig_id == 'A4_12'].seq:\n",
    "    print(seq)"
   ]
  },
  {
   "cell_type": "code",
   "execution_count": 221,
   "id": "ed6a6bef",
   "metadata": {},
   "outputs": [],
   "source": [
    "# overdrive_df.left_of_right_border_seq.nunique()\n",
    "# overdrive_df.seq.nunique()\n",
    "\n",
    "# for row in overdrive_df.itertuples():\n",
    "#     assert row.right_border_seq not in row.left_of_right_border_seq\n",
    "\n",
    "# overdrive_df[[col for col in overdrive_df.columns if ('start' in col) or ('stop' in col)] + ['strand']]"
   ]
  },
  {
   "cell_type": "code",
   "execution_count": null,
   "id": "1323999b",
   "metadata": {},
   "outputs": [
    {
     "name": "stderr",
     "output_type": "stream",
     "text": [
      "check_overdrive_dataset: 100%|██████████| 183/183 [00:00<00:00, 2824.56it/s]\n"
     ]
    }
   ],
   "source": [
    "\n"
   ]
  },
  {
   "cell_type": "code",
   "execution_count": 223,
   "id": "ad41c9b7",
   "metadata": {},
   "outputs": [
    {
     "name": "stdout",
     "output_type": "stream",
     "text": [
      "Num. overdrive variants: 27\n",
      "Num. VirC1 variants: 10\n",
      "Num. VirC2 variants: 16\n",
      "Num. VirC2 variants (first beta sheet): 5\n",
      "Num. VirC2 variants (second beta sheet): 4\n",
      "Num. VirC2 variants (both beta sheets): 5\n"
     ]
    }
   ],
   "source": [
    "# There is tons of redundancy in the dataset... \n",
    "\n",
    "d = 0\n",
    "virc2_df['beta_sheet_1'] = [seq[80 - d:90 + d] for seq in virc2_df.seq]\n",
    "virc2_df['beta_sheet_2'] = [seq[150 - d:160 + d] for seq in virc2_df.seq]\n",
    "virc2_df['beta_sheets'] = [row.beta_sheet_1 + '-' + row.beta_sheet_2 for row in virc2_df.itertuples()]\n",
    "\n",
    "overdrive_variants = {seq:i for i, seq in enumerate(overdrive_df.seq.unique())}\n",
    "overdrive_df['variant'] = overdrive_df.seq.map(overdrive_variants)\n",
    "\n",
    "overdrive_df['virc1_seq'] = overdrive_df.source_id.map(virc1_df.set_index('source_id').seq)\n",
    "overdrive_df['virc2_seq'] = overdrive_df.source_id.map(virc2_df.set_index('source_id').seq)\n",
    "overdrive_df['virc2_beta_sheet_1'] = overdrive_df.source_id.map(virc2_df.set_index('source_id').beta_sheet_1)\n",
    "overdrive_df['virc2_beta_sheet_2'] = overdrive_df.source_id.map(virc2_df.set_index('source_id').beta_sheet_2)\n",
    "overdrive_df['virc2_beta_sheets'] = overdrive_df.source_id.map(virc2_df.set_index('source_id').beta_sheets)\n",
    "\n",
    "# Only assign variant IDs to the VirC1 and VirC2 sequences with identified overdrives.\n",
    "virc1_variants = {seq:i for i, seq in enumerate(overdrive_df.virc1_seq.unique())}\n",
    "virc2_variants = {seq:i for i, seq in enumerate(overdrive_df.virc2_seq.unique())}\n",
    "virc2_beta_sheet_1_variants = {seq:i for i, seq in enumerate(overdrive_df.virc2_beta_sheet_1.unique())}\n",
    "virc2_beta_sheet_2_variants = {seq:i for i, seq in enumerate(overdrive_df.virc2_beta_sheet_2.unique())}\n",
    "virc2_beta_sheets_variants = {seq:i for i, seq in enumerate(overdrive_df.virc2_beta_sheets.unique())}\n",
    "\n",
    "overdrive_df['virc1_variant'] = overdrive_df.virc1_seq.map(virc1_variants)\n",
    "overdrive_df['virc2_variant'] = overdrive_df.virc2_seq.map(virc2_variants)\n",
    "overdrive_df['virc2_beta_sheets_variant'] = overdrive_df.virc2_beta_sheets.map(virc2_beta_sheets_variants)\n",
    "\n",
    "virc1_df['variant'] = virc1_df.seq.map(virc1_variants)\n",
    "virc2_df['variant'] = virc2_df.seq.map(virc2_variants)\n",
    "\n",
    "print('Num. overdrive variants:', overdrive_df.seq.nunique())\n",
    "print('Num. VirC1 variants:', overdrive_df.virc1_seq.nunique())\n",
    "print('Num. VirC2 variants:', overdrive_df.virc2_seq.nunique())\n",
    "print('Num. VirC2 variants (first beta sheet):', overdrive_df.virc2_beta_sheet_1.nunique())\n",
    "print('Num. VirC2 variants (second beta sheet):', overdrive_df.virc2_beta_sheet_2.nunique())\n",
    "print('Num. VirC2 variants (both beta sheets):', overdrive_df.virc2_beta_sheets.nunique())\n",
    "\n",
    "overdrive_df.to_csv('../data/data-1/overdrive.csv')"
   ]
  },
  {
   "cell_type": "code",
   "execution_count": 224,
   "id": "49689b0f",
   "metadata": {},
   "outputs": [],
   "source": [
    "palette = get_palette(overdrive_df.sort_values('plasmid_class'), field='plasmid_type')"
   ]
  },
  {
   "cell_type": "code",
   "execution_count": 225,
   "id": "811f2d30",
   "metadata": {},
   "outputs": [
    {
     "name": "stdout",
     "output_type": "stream",
     "text": [
      "Num. overdrive sequences without annotated VirC1: 3\n",
      "NCPPB_3554_ti\n",
      "Y2_73_ti\n",
      "Y2_73_ti\n"
     ]
    }
   ],
   "source": [
    "# Are there any overdrive sequences which are missing corresponding VirC12 proteins?\n",
    "print('Num. overdrive sequences without annotated VirC1:', overdrive_df.virc1_seq.isnull().sum())\n",
    "for row in overdrive_df[overdrive_df.virc1_seq.isnull()].itertuples():\n",
    "    print(row.source_id) # Looking at the GenBank files, it seems as though these plamids are just missing part of the vir operon. "
   ]
  },
  {
   "cell_type": "code",
   "execution_count": 281,
   "id": "d52aff98",
   "metadata": {},
   "outputs": [
    {
     "data": {
      "image/png": "[encoded data removed]",
      "text/plain": [
       "<Figure size 1500x400 with 3 Axes>"
      ]
     },
     "metadata": {},
     "output_type": "display_data"
    }
   ],
   "source": [
    "def figure(overdrive_df:pd.DataFrame, palette:dict=palette):\n",
    "\n",
    "    figure_df = overdrive_df.copy()\n",
    "    figure_df = figure_df.sort_values('plasmid_class')\n",
    "\n",
    "    fig, axes = plt.subplots(ncols=3, figsize=(15, 4))\n",
    "\n",
    "    variant_fields = ['virc1_variant', 'virc2_variant', 'variant']\n",
    "    # variant_fields = ['virc1_variant', 'virc2_beta_sheets_variant', 'variant']\n",
    "    for ax, variant_field in zip(axes, variant_fields):\n",
    "        ax_df = figure_df.copy()\n",
    "        ax_df = ax_df[~ax_df[variant_field].isnull()].copy()\n",
    "        ax_df[variant_field] = ax_df[variant_field].astype(int)\n",
    "        \n",
    "        add_legend = (variant_field == variant_fields[-1])\n",
    "        # add_legend = False\n",
    "        sns.histplot(data=ax_df, ax=ax, x=variant_field, hue='plasmid_type', legend=add_legend, multiple='stack', palette=palette, discrete=True)\n",
    "        # sns.histplot(data=figure_df, ax=ax, x='plasmid_type', hue='variant', legend=False, multiple='stack', palette='tab20c')\n",
    "        ax.set_ylabel('count')\n",
    "        # ax.set_ylim(ymax=20)\n",
    "        ax.set_xticks(np.arange(0, figure_df[variant_field].nunique(), 2))\n",
    "        # ax.set_xticks(ax.get_xticks(), labels=ax.get_xticklabels(), rotation=45)\n",
    "        ax.set_xlim(xmin=-1, xmax=figure_df[variant_field].nunique())\n",
    "    plt.show()\n",
    "\n",
    "figure(overdrive_df)"
   ]
  },
  {
   "cell_type": "code",
   "execution_count": 277,
   "id": "d737914c",
   "metadata": {},
   "outputs": [
    {
     "data": {
      "image/png": "[encoded data removed]",
      "text/plain": [
       "<Figure size 500x350 with 1 Axes>"
      ]
     },
     "metadata": {},
     "output_type": "display_data"
    }
   ],
   "source": [
    "def figure(overdrive_df, palette=palette):\n",
    "\n",
    "    fig, ax = plt.subplots(figsize=(5, 3.5))\n",
    "\n",
    "    coords = dict()\n",
    "    coords['Type V (Ti)'] = 0, (1, 0)\n",
    "    coords['Type III (Ri)'] = 1, (2, 0)\n",
    "    coords['Type Ia (Ti)'] = 3, (3, 0)\n",
    "    coords['Type Ib (Ti)'] = 3, (4, 0)\n",
    "    coords['Type III (Ti)'] = 3, (5, 0)\n",
    "    coords['Type II (Ti)'] = 3, (6, 0)\n",
    "    coords['Type IVa (Ti)'] = 3, (7, 0)\n",
    "    coords['Type IVb (Ti)'] = 3, (8, 0)\n",
    "    coords['Type VI (Ti)'] = 2, (9, 0)\n",
    "    # coords['Type I (Ri)'] = (10, 0)\n",
    "    coords['Type II (Ri)'] = 1, (11, 0)\n",
    "\n",
    "    max_height = 5\n",
    "    levels = [max_height, max_height - 1, max_height - 2, max_height - 3]\n",
    "    \n",
    "    ax.hlines(max_height, xmin=1, xmax=(11 + 1) / 2, color='black', lw=0.7)\n",
    "    ax.hlines(max_height - 1, xmin=2, xmax=11, color='black', lw=0.7)\n",
    "    ax.hlines(max_height - 2, xmin=(3 + 4) / 2, xmax=9, color='black', lw=0.7)\n",
    "    ax.hlines(max_height - 3, xmin=3, xmax=4, color='black', lw=0.7)\n",
    "    ax.hlines(max_height - 3, xmin=5, xmax=6, color='black', lw=0.7)\n",
    "    ax.hlines(max_height - 3, xmin=7, xmax=8, color='black', lw=0.7)\n",
    "\n",
    "    ax.vlines((11 + 1) / 2, ymin=levels[1], ymax=levels[0], color='black', lw=0.7)\n",
    "    ax.vlines((((3 + 4) / 2) + 9) / 2, ymin=levels[2], ymax=levels[1], color='black', lw=0.7)\n",
    "    ax.vlines((3 + 4) / 2, ymin=levels[3], ymax=levels[2], color='black', lw=0.7)\n",
    "    ax.vlines((5 + 6) / 2, ymin=levels[3], ymax=levels[2], color='black', lw=0.7)\n",
    "    ax.vlines((7 + 8) / 2, ymin=levels[3], ymax=levels[2], color='black', lw=0.7)\n",
    "\n",
    "    sizes = overdrive_df.plasmid_type.value_counts().to_dict()\n",
    "\n",
    "    for label, (level, (x, y)) in coords.items():\n",
    "        ax.vlines(x, ymin=0, ymax=levels[level], color='black', zorder=-1, lw=0.7)\n",
    "        ax.scatter([x], [y], color=palette[label], s=5 * sizes[label], label=label)\n",
    "\n",
    "    for _, spine in ax.spines.items():\n",
    "        spine.set_visible(False)\n",
    "    ax.set_xticks([])\n",
    "    ax.set_yticks([])\n",
    "    # ax.legend()\n",
    "\n",
    "    plt.show()\n",
    "\n",
    "figure(overdrive_df)\n",
    "\n",
    "\n"
   ]
  },
  {
   "cell_type": "code",
   "execution_count": 241,
   "id": "5b77e20c",
   "metadata": {},
   "outputs": [
    {
     "name": "stdout",
     "output_type": "stream",
     "text": [
      "0.5837230383026172\n",
      "0.5739563463993702\n",
      "0.7932129532143046\n"
     ]
    }
   ],
   "source": [
    "# How many unique VirC1-VirC2 combinations?\n",
    "\n",
    "virc1_virc2_pairs = set([(row.virc1_variant, row.virc2_variant) for row in overdrive_df.itertuples()])\n",
    "\n",
    "# If you know VirC1, how well can you predict overdrive?\n",
    "# If you know VirC2, how well can you predict overdrive?\n",
    "from sklearn.metrics import mutual_info_score, normalized_mutual_info_score, adjusted_mutual_info_score\n",
    "\n",
    "df = overdrive_df[~(overdrive_df.virc1_seq.isnull() | overdrive_df.virc2_seq.isnull())].copy()\n",
    "# print(adjusted_mutual_info_score(df.variant.values, df.virc1_variant.values))\n",
    "# print(adjusted_mutual_info_score(df.variant.values, df.virc2_variant.values))\n",
    "print(adjusted_mutual_info_score(df.reduced_variant.values, df.virc1_variant.values))\n",
    "print(adjusted_mutual_info_score(df.reduced_variant.values, df.virc2_variant.values))\n",
    "\n",
    "print(adjusted_mutual_info_score(df.virc1_variant.values, df.virc2_variant.values))\n"
   ]
  },
  {
   "cell_type": "code",
   "execution_count": 236,
   "id": "068ca452",
   "metadata": {},
   "outputs": [
    {
     "data": {
      "image/png": "[encoded data removed]",
      "text/plain": [
       "<Figure size 800x500 with 1 Axes>"
      ]
     },
     "metadata": {},
     "output_type": "display_data"
    }
   ],
   "source": [
    "# We can see that identical upstream regions are generally limited to plasmids of the same type, with the exception\n",
    "# of some which are found in both Type 1a and Type 1b plasmids, as well as Type 1a and Type III. \n",
    "\n",
    "# Would be useful to look at how exactly these regions compare. Because most of the overdrive variants correspond to a single\n",
    "# plasmid type, it is probably OK to drop (variant, plasmid_type) duplicates. \n",
    "\n",
    "def figure(overdrive_df, palette=palette):\n",
    "\n",
    "    get_id = lambda row : row.plasmid_type.split('(')[0].strip().lower().replace(' ', '_') + f'_var{row.variant}'\n",
    "\n",
    "    figure_df = overdrive_df.copy()\n",
    "    figure_df = figure_df.sort_values('plasmid_class')\n",
    "    figure_df = figure_df.drop_duplicates(['variant', 'plasmid_type'])\n",
    "    figure_df['id'] = [get_id(row) for row in figure_df.itertuples()]\n",
    "    FASTAFile(df=figure_df.set_index('id')).write('../data/data-1/figure_2.fn')\n",
    "    figure_df = figure_df.set_index('id')\n",
    "\n",
    "    align_df = load_align('../data/data-1/figure_2_align.tsv')\n",
    "    # Want to characterize the cross-variant alignments. \n",
    "    \n",
    "    graph = get_alignment_graph(align_df, order=figure_df.index.values)\n",
    "    alignment_groups = nx.connected_components(graph)\n",
    "    alignment_groups = {i:set([int(re.search(r'\\d+', id_).group(0)) for id_ in group]) for i, group in enumerate(alignment_groups)}\n",
    "\n",
    "    fig, ax = plt.subplots(figsize=(8, 5))\n",
    "\n",
    "    pos = get_layout(graph)\n",
    "\n",
    "    colors = get_graph_colors(graph, figure_df, field='plasmid_type', palette=palette)\n",
    "    nx.draw_networkx_edges(graph, ax=ax, pos=pos, edge_color='lightgray', width=0.5)\n",
    "    nx.draw_networkx_nodes(graph, ax=ax, node_size=50, pos=pos, edgecolors='black', node_color=colors, linewidths=0.5)\n",
    "\n",
    "    legend_labels = figure_df.plasmid_type.unique()\n",
    "    legend_handles = [mpl.lines.Line2D([None], [None], ls='none', markersize=5, marker='o', markeredgewidth=0.5, markeredgecolor='black', markerfacecolor=palette.get(label)) for label in legend_labels]\n",
    "    ax.legend(legend_handles, legend_labels, fontsize='small', bbox_to_anchor=(1.05, 1.05))\n",
    "\n",
    "    for _, spine in ax.spines.items():\n",
    "        spine.set_visible(False)\n",
    "\n",
    "    plt.show()\n",
    "\n",
    "    return align_df, alignment_groups\n",
    "\n",
    "align_df, alignment_groups = figure(overdrive_df)"
   ]
  },
  {
   "cell_type": "code",
   "execution_count": null,
   "id": "b5bc563c",
   "metadata": {},
   "outputs": [],
   "source": [
    "reduced_variants = {variant:i for i, group in alignment_groups.items() for variant in group}\n",
    "overdrive_df['reduced_variant'] = overdrive_df.variant.map(reduced_variants)"
   ]
  },
  {
   "cell_type": "code",
   "execution_count": 284,
   "id": "7b8e5190",
   "metadata": {},
   "outputs": [
    {
     "data": {
      "text/html": [
       "<div>\n",
       "<style scoped>\n",
       "    .dataframe tbody tr th:only-of-type {\n",
       "        vertical-align: middle;\n",
       "    }\n",
       "\n",
       "    .dataframe tbody tr th {\n",
       "        vertical-align: top;\n",
       "    }\n",
       "\n",
       "    .dataframe thead th {\n",
       "        text-align: right;\n",
       "    }\n",
       "</style>\n",
       "<table border=\"1\" class=\"dataframe\">\n",
       "  <thead>\n",
       "    <tr style=\"text-align: right;\">\n",
       "      <th></th>\n",
       "      <th>strain_id</th>\n",
       "      <th>virc1_variant</th>\n",
       "      <th>virc2_variant</th>\n",
       "      <th>virc2_beta_sheets</th>\n",
       "      <th>plasmid_type</th>\n",
       "      <th>variant</th>\n",
       "      <th>reduced_variant</th>\n",
       "    </tr>\n",
       "    <tr>\n",
       "      <th>id</th>\n",
       "      <th></th>\n",
       "      <th></th>\n",
       "      <th></th>\n",
       "      <th></th>\n",
       "      <th></th>\n",
       "      <th></th>\n",
       "      <th></th>\n",
       "    </tr>\n",
       "  </thead>\n",
       "  <tbody>\n",
       "    <tr>\n",
       "      <th>A4_12:127426-127526</th>\n",
       "      <td>A4</td>\n",
       "      <td>3</td>\n",
       "      <td>5</td>\n",
       "      <td>KIQVFLSARP-IVQTSRMFPV</td>\n",
       "      <td>Type III (Ri)</td>\n",
       "      <td>7</td>\n",
       "      <td>1</td>\n",
       "    </tr>\n",
       "    <tr>\n",
       "      <th>NZ_CP011249:13177-13277</th>\n",
       "      <td>Ach5</td>\n",
       "      <td>2</td>\n",
       "      <td>2</td>\n",
       "      <td>KLQVFLSARP-VQTSRMFPVA</td>\n",
       "      <td>Type II (Ti)</td>\n",
       "      <td>8</td>\n",
       "      <td>6</td>\n",
       "    </tr>\n",
       "    <tr>\n",
       "      <th>NZ_CP011249:22880-22980</th>\n",
       "      <td>Ach5</td>\n",
       "      <td>2</td>\n",
       "      <td>2</td>\n",
       "      <td>KLQVFLSARP-VQTSRMFPVA</td>\n",
       "      <td>Type II (Ti)</td>\n",
       "      <td>5</td>\n",
       "      <td>10</td>\n",
       "    </tr>\n",
       "    <tr>\n",
       "      <th>DQ058764:15729-15829</th>\n",
       "      <td>Bo542</td>\n",
       "      <td>0</td>\n",
       "      <td>0</td>\n",
       "      <td>KLQVFLSARP-VQTSRMFPVA</td>\n",
       "      <td>Type III (Ti)</td>\n",
       "      <td>13</td>\n",
       "      <td>9</td>\n",
       "    </tr>\n",
       "    <tr>\n",
       "      <th>DQ058764:42315-42415</th>\n",
       "      <td>Bo542</td>\n",
       "      <td>0</td>\n",
       "      <td>0</td>\n",
       "      <td>KLQVFLSARP-VQTSRMFPVA</td>\n",
       "      <td>Type III (Ti)</td>\n",
       "      <td>14</td>\n",
       "      <td>10</td>\n",
       "    </tr>\n",
       "    <tr>\n",
       "      <th>AE007871:24834-24934</th>\n",
       "      <td>C58</td>\n",
       "      <td>1</td>\n",
       "      <td>1</td>\n",
       "      <td>KIQVFLSARP-IVQTSRMFPV</td>\n",
       "      <td>Type Ia (Ti)</td>\n",
       "      <td>2</td>\n",
       "      <td>7</td>\n",
       "    </tr>\n",
       "  </tbody>\n",
       "</table>\n",
       "</div>"
      ],
      "text/plain": [
       "                        strain_id  virc1_variant  virc2_variant  \\\n",
       "id                                                                \n",
       "A4_12:127426-127526            A4              3              5   \n",
       "NZ_CP011249:13177-13277      Ach5              2              2   \n",
       "NZ_CP011249:22880-22980      Ach5              2              2   \n",
       "DQ058764:15729-15829        Bo542              0              0   \n",
       "DQ058764:42315-42415        Bo542              0              0   \n",
       "AE007871:24834-24934          C58              1              1   \n",
       "\n",
       "                             virc2_beta_sheets   plasmid_type  variant  \\\n",
       "id                                                                       \n",
       "A4_12:127426-127526      KIQVFLSARP-IVQTSRMFPV  Type III (Ri)        7   \n",
       "NZ_CP011249:13177-13277  KLQVFLSARP-VQTSRMFPVA   Type II (Ti)        8   \n",
       "NZ_CP011249:22880-22980  KLQVFLSARP-VQTSRMFPVA   Type II (Ti)        5   \n",
       "DQ058764:15729-15829     KLQVFLSARP-VQTSRMFPVA  Type III (Ti)       13   \n",
       "DQ058764:42315-42415     KLQVFLSARP-VQTSRMFPVA  Type III (Ti)       14   \n",
       "AE007871:24834-24934     KIQVFLSARP-IVQTSRMFPV   Type Ia (Ti)        2   \n",
       "\n",
       "                         reduced_variant  \n",
       "id                                        \n",
       "A4_12:127426-127526                    1  \n",
       "NZ_CP011249:13177-13277                6  \n",
       "NZ_CP011249:22880-22980               10  \n",
       "DQ058764:15729-15829                   9  \n",
       "DQ058764:42315-42415                  10  \n",
       "AE007871:24834-24934                   7  "
      ]
     },
     "execution_count": 284,
     "metadata": {},
     "output_type": "execute_result"
    }
   ],
   "source": [
    "# Strains C58, Ach5, Bo542, A4\n",
    "\n",
    "# The DNA-binding regions for all three strains are nearly identical. \n",
    "df = overdrive_df[overdrive_df.strain_id.isin(['C58', 'Bo542', 'Ach5', 'A4'])].copy()\n",
    "\n",
    "# Bo542 and Ach5 have VirC2s with identical DNA binding domains. \n",
    "# A4 and C58 have VirC2s with identical DNA binding domains. \n",
    "\n",
    "# Ach5 and A4 have identical motifs, despite having VirC2s with different binding domains. \n",
    "df[['strain_id', 'virc1_variant', 'virc2_variant', 'virc2_beta_sheets', 'plasmid_type', 'variant', 'reduced_variant']]#.drop_duplicates('strain_id')"
   ]
  },
  {
   "cell_type": "code",
   "execution_count": null,
   "id": "50793daf",
   "metadata": {},
   "outputs": [],
   "source": []
  }
 ],
 "metadata": {
  "kernelspec": {
   "display_name": "overdrive",
   "language": "python",
   "name": "python3"
  },
  "language_info": {
   "codemirror_mode": {
    "name": "ipython",
    "version": 3
   },
   "file_extension": ".py",
   "mimetype": "text/x-python",
   "name": "python",
   "nbconvert_exporter": "python",
   "pygments_lexer": "ipython3",
   "version": "3.13.5"
  }
 },
 "nbformat": 4,
 "nbformat_minor": 5
}
