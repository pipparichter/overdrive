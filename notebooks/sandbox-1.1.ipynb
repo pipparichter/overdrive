{
 "cells": [
  {
   "cell_type": "code",
   "execution_count": 36,
   "id": "b6208191",
   "metadata": {},
   "outputs": [
    {
     "name": "stdout",
     "output_type": "stream",
     "text": [
      "The autoreload extension is already loaded. To reload it, use:\n",
      "  %reload_ext autoreload\n"
     ]
    }
   ],
   "source": [
    "import pandas as pd \n",
    "import numpy as np \n",
    "import os\n",
    "import glob\n",
    "import subprocess\n",
    "from tqdm import tqdm\n",
    "import itertools\n",
    "import networkx as nx\n",
    "import seaborn as sns\n",
    "import matplotlib as mpl\n",
    "from matplotlib.patches import Rectangle\n",
    "import matplotlib.pyplot as plt\n",
    "import math\n",
    "import re\n",
    "from utils import * \n",
    "from src.data import * \n",
    "import json\n",
    "import sklearn\n",
    "import io \n",
    "\n",
    "%load_ext autoreload\n",
    "%autoreload 2"
   ]
  },
  {
   "cell_type": "code",
   "execution_count": 37,
   "id": "367a5b20",
   "metadata": {},
   "outputs": [],
   "source": [
    "def load_align(path:str):\n",
    "    cols = ['query', 'target', 'evalue', 'pident', 'bits', 'qseq', 'tseq', 'alnlen', 'qstart', 'qend', 'tstart', 'tend']\n",
    "    align_df = pd.read_csv(path, sep='\\t', header=None, names=cols)\n",
    "    align_df = align_df[align_df.bits > 50].copy()\n",
    "    align_df['start_offset'] = np.abs(align_df.qstart - align_df.tstart)\n",
    "    align_df['alignment_id'] = [' - '.join(sorted([row.target, row.query])) for row in align_df.itertuples()]\n",
    "    align_df = align_df[align_df['query'] != align_df['target']].copy() # Drop self-alignments.\n",
    "    align_df = align_df.sort_values('bits').drop_duplicates('alignment_id') # Drop duplicate alignments.\n",
    "    return align_df"
   ]
  },
  {
   "cell_type": "code",
   "execution_count": 38,
   "id": "2efb91e2",
   "metadata": {},
   "outputs": [],
   "source": [
    "# NOTE: I modified some of the plasmid file names for consistency with the metadata, e.g. pTiS4 to S4_ti\n",
    "# TODO: What is the Atu or Avi prefix? Should I not have changed those?\n",
    "\n",
    "metadata_df = load_weisberg_2020_metadata()"
   ]
  },
  {
   "cell_type": "code",
   "execution_count": 39,
   "id": "9ff6f748",
   "metadata": {},
   "outputs": [
    {
     "name": "stderr",
     "output_type": "stream",
     "text": [
      "Running HMMs on plasmids...: 100%|██████████| 142/142 [00:00<00:00, 217846.07it/s]\n"
     ]
    }
   ],
   "source": [
    "for path in glob.glob('../data/data-1/ncbi/genbank/*'):\n",
    "    fasta_path = os.path.basename(path).replace('.gbk', '.fn')\n",
    "    fasta_path = os.path.join('../data/data-1/ncbi/fasta/', fasta_path)\n",
    "    if not os.path.exists(fasta_path):\n",
    "        print(f'Writing FASTA nucleotide file to {fasta_path}')\n",
    "        file = GBKFile(path)\n",
    "        file.to_fasta(fmt='nt', path=fasta_path)\n",
    "\n",
    "# Created HMM library by concatenating individual HMM filed into library.hmm.\n",
    "# Had to manually-remove a string containing \"ELEMENTS OF EXTERNAL ORIGIN;\" because it caused issues with parsing. \n",
    "for path in tqdm(glob.glob('../data/data-1/ncbi/fasta/*'), 'Running HMMs on plasmids...'):\n",
    "    source_id = os.path.basename(path).replace('.fn', '')\n",
    "    output_path = f'../data/data-1/hmmer/{source_id}.tsv'\n",
    "    if not os.path.exists(output_path):\n",
    "        subprocess.run(f'nhmmer -E 10 --tblout {output_path} ../data/data-1/hmms/library.hmm {path}', shell=True, check=True, stdout=subprocess.DEVNULL)"
   ]
  },
  {
   "cell_type": "code",
   "execution_count": 40,
   "id": "bae75e39",
   "metadata": {},
   "outputs": [
    {
     "name": "stdout",
     "output_type": "stream",
     "text": [
      "load_hmmer: Num. hits for query T-DNA_left_border: 296\n",
      "load_hmmer: Num. hits for query T-DNA_right_border: 426\n",
      "load_hmmer: Num. hits for query overdrive: 43\n",
      "2\n",
      "3\n"
     ]
    },
    {
     "data": {
      "image/png": "[encoded data removed]",
      "text/plain": [
       "<Figure size 1000x120 with 1 Axes>"
      ]
     },
     "metadata": {},
     "output_type": "display_data"
    }
   ],
   "source": [
    "# right_border_counts = borders_df[borders_df.annotation.str.contains('right_border')].source_id.value_counts()\n",
    "# left_border_counts = borders_df[borders_df.annotation.str.contains('left_border')].source_id.value_counts()\n",
    "# right_border_counts = right_border_counts[right_border_counts > 3]\n",
    "# right_border_counts\n",
    "# left_border_counts\n",
    "\n",
    "def filter_right_borders(target_df:pd.DataFrame):\n",
    "\n",
    "    get_next = lambda i : 'none' if (i == (len(target_df) - 1)) else target_df.iloc[i + 1].annotation\n",
    "    get_previous = lambda i : 'none' if (i == 0) else target_df.iloc[i - 1].annotation\n",
    "    \n",
    "    target_df = target_df.sort_values('start')\n",
    "    target_df['previous_annotation'] = [get_previous(i) for i in range(len(target_df))]\n",
    "    target_df['next_annotation'] = [get_next(i) for i in range(len(target_df))]\n",
    "\n",
    "    mask = (target_df.annotation.str.contains('right_border'))\n",
    "    mask = mask & target_df.next_annotation.str.contains('none|left_border')\n",
    "    mask = mask & target_df.previous_annotation.str.contains('none|left_border')\n",
    "    return target_df[mask].copy()\n",
    "\n",
    "def plot_borders(target_df:pd.DataFrame):\n",
    "\n",
    "    fig, ax = plt.subplots(figsize=(10, 1.2))\n",
    "    target_length = target_df.length.iloc[0]\n",
    "\n",
    "    palette = {'T-DNA_right_border':'indianred', 'T-DNA_left_border':'steelblue'}\n",
    "    y = {'T-DNA_right_border':1, 'T-DNA_left_border':-1}\n",
    "\n",
    "    target_df = target_df[target_df.annotation.isin(y)].copy()\n",
    "    resolved_target_df = resolve_borders(target_df, filter_=False)\n",
    "    print(len(resolved_target_df))\n",
    "    print(len(target_df))\n",
    "\n",
    "    ax.axhline(xmin=0, xmax=target_length, color='black')\n",
    "\n",
    "    def plot(df, alpha=1):\n",
    "        for annotation, df_ in df.groupby('annotation'):\n",
    "            for row in df_.itertuples():\n",
    "                dx = row.stop - row.start if (row.strand == '+') else -row.stop - row.start\n",
    "                x = row.start if (row.strand == '+') else row.stop \n",
    "                marker = '>' if (row.strand == '+') else '<'\n",
    "                ax.scatter([x], [y[annotation]],color=palette[annotation], s=50, marker=marker, alpha=alpha)\n",
    "\n",
    "    plot(target_df, alpha=0.3)\n",
    "    plot(resolved_target_df, alpha=1)\n",
    "    # ax.set_visible(False)\n",
    "    for _, spine in ax.spines.items():\n",
    "        spine.set_visible(False)\n",
    "\n",
    "hmmer_df = load_hmmer_files(hmmer_dir='../data/data-1/hmmer')\n",
    "# plot_borders(hmmer_df[hmmer_df.target_name == 'JL5166_16'])\n",
    "# plot_borders(hmmer_df[hmmer_df.target_name == 'AS1D6_11']) \n",
    "plot_borders(hmmer_df[hmmer_df.target_name == 'NC_002575']) \n",
    "\n",
    "# For the purposes of detecting potential motifs, require that every valid right border have a corresponding left border"
   ]
  },
  {
   "cell_type": "code",
   "execution_count": 41,
   "id": "11bd90e6",
   "metadata": {},
   "outputs": [
    {
     "name": "stdout",
     "output_type": "stream",
     "text": [
      "load_hmmer: Num. hits for query T-DNA_left_border: 296\n",
      "load_hmmer: Num. hits for query T-DNA_right_border: 426\n",
      "load_hmmer: Num. hits for query overdrive: 43\n",
      "build_overdrive_dataset: Found 193 right borders.\n",
      "build_overdrive_dataset: Found 142 FASTA files.\n",
      "Removing 10 adjacent regions with repeats from the dataset.\n"
     ]
    }
   ],
   "source": [
    "hmmer_df = load_hmmer_files(hmmer_dir='../data/data-1/hmmer')\n",
    "overdrive_df = build_overdrive_dataset(overwrite=True, fasta_dir='../data/data-1/ncbi/fasta/', hmmer_df=hmmer_df, length=100, data_dir='../data/data-1/')\n",
    "\n",
    "if 'plasmid_type' not in overdrive_df.columns:\n",
    "    index = overdrive_df.index\n",
    "    overdrive_df = overdrive_df.merge(metadata_df, left_on='source_id', right_on='source_id', how='left')\n",
    "    overdrive_df.index = index # Make sure to restore the index after the merge. \n",
    "\n",
    "overdrive_df.to_csv('../data/data-1/overdrive.csv')\n",
    "FASTAFile(df=overdrive_df).write('../data/data-1/overdrive.fn')\n",
    "\n",
    "virc1_df = build_virc_dataset(overwrite=False, product='VirC1')\n",
    "virc2_df = build_virc_dataset(overwrite=False, product='VirC2')\n",
    "\n",
    "# Identified a handful of cases of detected overdrive variants which seem to multiple (4+) GTGCATCC repeats. I ran a BLASTn search, \n",
    "# and found other similar repeat regions in non-Agro bacteria, which suggests to me that this might be some kind of weird recombination\n",
    "# event or replication slippage. I am going to exclude them from the dataset for now, as they are interfering with motif search. \n",
    "\n",
    "is_weird_repeat = lambda seq : re.search(r'(GTGCATCC|GTGCCTTC|TGTTCAAT|AGTTCATT){3,}', seq) is not None \n",
    "print(f'Removing {overdrive_df.seq.apply(is_weird_repeat).sum()} adjacent regions with repeats from the dataset.')\n",
    "overdrive_df = overdrive_df[~overdrive_df.seq.apply(is_weird_repeat)]\n",
    "\n",
    "# right_border_false_positive_ids = ['JL5166_16:42807-43007', 'JL5166_18:12337-12537', 'JL5166_18:64464-64664', 'AS2E5_10:145466-145666']\n",
    "# overdrive_df = overdrive_df[~overdrive_df.index.isin(right_border_false_positive_ids)]\n",
    "\n",
    "overdrive_df.to_csv('../data/data-1/overdrive.csv')\n",
    "FASTAFile(df=overdrive_df).write('../data/data-1/overdrive.fn')\n",
    "FASTAFile(df=overdrive_df.drop_duplicates('left_of_right_border_seq').drop(columns=['seq']).rename(columns={'left_of_right_border_seq':'seq'})).write('../data/data-1/left_of_right_border.fn')\n"
   ]
  },
  {
   "cell_type": "code",
   "execution_count": 42,
   "id": "ed6a6bef",
   "metadata": {},
   "outputs": [
    {
     "data": {
      "text/plain": [
       "28"
      ]
     },
     "execution_count": 42,
     "metadata": {},
     "output_type": "execute_result"
    }
   ],
   "source": [
    "overdrive_df.left_of_right_border_seq.nunique()\n",
    "# overdrive_df.seq.nunique()\n",
    "\n",
    "# for row in overdrive_df.itertuples():\n",
    "#     assert row.right_border_seq not in row.left_of_right_border_seq\n",
    "\n",
    "# overdrive_df[[col for col in overdrive_df.columns if ('start' in col) or ('stop' in col)] + ['strand']]"
   ]
  },
  {
   "cell_type": "code",
   "execution_count": 43,
   "id": "1323999b",
   "metadata": {},
   "outputs": [
    {
     "name": "stderr",
     "output_type": "stream",
     "text": [
      "check_overdrive_dataset: 100%|██████████| 183/183 [00:00<00:00, 2757.71it/s]\n"
     ]
    }
   ],
   "source": [
    "def check_overdrive_dataset(overdrive_df:pd.DataFrame):\n",
    "    '''Check the raw files to make sure I actually grabbed overdrives that exist in the FASTA.'''\n",
    "    for row in tqdm(list(overdrive_df.itertuples()), desc='check_overdrive_dataset'):\n",
    "        path = os.path.join(data_dir, f'ncbi/fasta/{row.source_id}.fn')\n",
    "        with open(path, 'r') as f:\n",
    "            content = f.read().replace('\\n', '')\n",
    "        seq = re.sub(r'\\s+', '', row.seq)\n",
    "        if (row.strand == '-'):\n",
    "            seq = str(Seq(seq).reverse_complement())\n",
    "        assert re.search(seq, content) is not None, f'Overdrive sequence not found in {path}.'\n",
    "\n",
    "def check_virc1_dataset(virc1_df:pd.DataFrame):\n",
    "    '''Check the raw files to make sure I grabbed a VirC1 from all annotations which have them.'''\n",
    "\n",
    "    for path in tqdm(glob.glob('../data/data-1/ncbi/genbank/*'), desc='check_virc1_dataset'):\n",
    "        source_id = os.path.basename(path).replace('.gbk', '')\n",
    "        with open(path, 'r') as f:\n",
    "            content = f.read().replace('\\n', '')\n",
    "        \n",
    "        if re.search(r'[vV]ir[cC]1', content) is not None:\n",
    "            # print(source_id)\n",
    "            assert source_id in virc1_df.source_id.values, f'VirC1 sequence in {path} is not present in the dataset.'\n",
    "\n",
    "check_overdrive_dataset(overdrive_df)\n",
    "# check_virc1_dataset(virc1_df)\n",
    "\n",
    "# TODO: Also check to make sure there is only one VirC1 and VirC2 per plasmid. "
   ]
  },
  {
   "cell_type": "code",
   "execution_count": 44,
   "id": "e2bf4243",
   "metadata": {},
   "outputs": [],
   "source": [
    "virc2_df['n_beta_sheet'] = [seq[82:128] for seq in virc2_df.seq]\n",
    "virc2_df['c_beta_sheet'] = [seq[150:200] for seq in virc2_df.seq]\n",
    "virc2_df['rhh_seq'] = [row.n_beta_sheet + row.c_beta_sheet for row in virc2_df.itertuples()]"
   ]
  },
  {
   "cell_type": "code",
   "execution_count": 45,
   "id": "ad41c9b7",
   "metadata": {},
   "outputs": [
    {
     "name": "stdout",
     "output_type": "stream",
     "text": [
      "Num. overdrive variants: 27\n",
      "Num. VirC1 variants: 13\n",
      "Num. VirC2 variants: 14\n"
     ]
    }
   ],
   "source": [
    "# There is tons of redundancy in the dataset... \n",
    "print('Num. overdrive variants:', overdrive_df.seq.nunique())\n",
    "print('Num. VirC1 variants:', virc1_df.seq.nunique())\n",
    "print('Num. VirC2 variants:', virc2_df.rhh_seq.nunique())\n",
    "\n",
    "overdrive_variants = {seq:i for i, seq in enumerate(overdrive_df.seq.unique())}\n",
    "virc1_variants = {seq:i for i, seq in enumerate(virc1_df.seq.unique())}\n",
    "# virc2_variants = {seq:i for i, seq in enumerate(virc2_df.seq.unique())}\n",
    "virc2_variants = {seq:i for i, seq in enumerate(virc2_df.rhh_seq.unique())}\n",
    "\n",
    "overdrive_df['variant'] = overdrive_df.seq.map(overdrive_variants)\n",
    "virc1_df['variant'] = virc1_df.seq.map(virc1_variants)\n",
    "virc2_df['variant'] = virc2_df.rhh_seq.map(virc2_variants)\n",
    "\n",
    "overdrive_df['virc1_seq'] = overdrive_df.source_id.map(virc1_df.set_index('source_id').seq)\n",
    "overdrive_df['virc2_seq'] = overdrive_df.source_id.map(virc2_df.set_index('source_id').seq)\n",
    "overdrive_df['virc2_rhh_seq'] = overdrive_df.source_id.map(virc2_df.set_index('source_id').rhh_seq)\n",
    "overdrive_df['virc1_variant'] = overdrive_df.virc1_seq.map(virc1_variants)\n",
    "overdrive_df['virc2_variant'] = overdrive_df.virc2_rhh_seq.map(virc2_variants)\n",
    "overdrive_df.to_csv('../data/data-1/overdrive.csv')"
   ]
  },
  {
   "cell_type": "code",
   "execution_count": 46,
   "id": "811f2d30",
   "metadata": {},
   "outputs": [
    {
     "name": "stdout",
     "output_type": "stream",
     "text": [
      "Num. overdrive sequences without annotated VirC1: 3\n",
      "NCPPB_3554_ti\n",
      "Y2_73_ti\n",
      "Y2_73_ti\n"
     ]
    }
   ],
   "source": [
    "# Are there any overdrive sequences which are missing corresponding VirC12 proteins?\n",
    "print('Num. overdrive sequences without annotated VirC1:', overdrive_df.virc1_seq.isnull().sum())\n",
    "for row in overdrive_df[overdrive_df.virc1_seq.isnull()].itertuples():\n",
    "    print(row.source_id) # Looking at the GenBank files, it seems as though these plamids are just missing part of the vir operon. "
   ]
  },
  {
   "cell_type": "code",
   "execution_count": 47,
   "id": "83877cdb",
   "metadata": {},
   "outputs": [],
   "source": [
    "cmap = mpl.colormaps.get_cmap('tab20c')\n",
    "cmap = cmap.resampled(overdrive_df.plasmid_type.nunique())\n",
    "palette = {f:cmap(i) for i, f in enumerate(overdrive_df.sort_values('plasmid_class').plasmid_type.unique())} # Map each category to a color. \n"
   ]
  },
  {
   "cell_type": "code",
   "execution_count": 48,
   "id": "d52aff98",
   "metadata": {},
   "outputs": [
    {
     "data": {
      "image/png": "[encoded data removed]",
      "text/plain": [
       "<Figure size 640x480 with 1 Axes>"
      ]
     },
     "metadata": {},
     "output_type": "display_data"
    }
   ],
   "source": [
    "def figure(overdrive_df:pd.DataFrame, palette:dict=palette):\n",
    "\n",
    "    figure_df = overdrive_df.copy()\n",
    "    figure_df = figure_df.sort_values('plasmid_class')\n",
    "\n",
    "    fig, ax = plt.subplots()\n",
    "\n",
    "    sns.histplot(data=figure_df, ax=ax, x='variant', hue='plasmid_type', legend=True, multiple='stack', palette=palette, discrete=True)\n",
    "    # sns.histplot(data=figure_df, ax=ax, x='plasmid_type', hue='variant', legend=False, multiple='stack', palette='tab20c')\n",
    "\n",
    "    ax.set_ylabel('count')\n",
    "    ax.set_xticks(ax.get_xticks(), labels=ax.get_xticklabels(), rotation=45)\n",
    "    ax.set_xlim(xmin=-1, xmax=27)\n",
    "    plt.show()\n",
    "\n",
    "figure(overdrive_df)\n"
   ]
  },
  {
   "cell_type": "code",
   "execution_count": 49,
   "id": "068ca452",
   "metadata": {},
   "outputs": [
    {
     "ename": "KeyError",
     "evalue": "\"['type_ivc_var17', 'type_ivb_var18', 'type_iii_var15', 'type_ii_var9', 'type_ib_var10', 'type_ii_var16'] not in index\"",
     "output_type": "error",
     "traceback": [
      "\u001b[31m---------------------------------------------------------------------------\u001b[39m",
      "\u001b[31mKeyError\u001b[39m                                  Traceback (most recent call last)",
      "\u001b[36mCell\u001b[39m\u001b[36m \u001b[39m\u001b[32mIn[49]\u001b[39m\u001b[32m, line 42\u001b[39m\n\u001b[32m     38\u001b[39m     plt.show()\n\u001b[32m     40\u001b[39m     \u001b[38;5;28;01mreturn\u001b[39;00m align_df, alignment_groups\n\u001b[32m---> \u001b[39m\u001b[32m42\u001b[39m align_df, alignment_groups = figure(overdrive_df)\n",
      "\u001b[36mCell\u001b[39m\u001b[36m \u001b[39m\u001b[32mIn[49]\u001b[39m\u001b[32m, line 27\u001b[39m, in \u001b[36mfigure\u001b[39m\u001b[34m(overdrive_df, palette)\u001b[39m\n\u001b[32m     23\u001b[39m fig, ax = plt.subplots(figsize=(\u001b[32m8\u001b[39m, \u001b[32m5\u001b[39m))\n\u001b[32m     25\u001b[39m pos = get_layout(graph)\n\u001b[32m---> \u001b[39m\u001b[32m27\u001b[39m colors = get_graph_colors(graph, figure_df, field=\u001b[33m'\u001b[39m\u001b[33mplasmid_type\u001b[39m\u001b[33m'\u001b[39m, palette=palette)\n\u001b[32m     28\u001b[39m nx.draw_networkx_edges(graph, ax=ax, pos=pos, edge_color=\u001b[33m'\u001b[39m\u001b[33mlightgray\u001b[39m\u001b[33m'\u001b[39m, width=\u001b[32m0.5\u001b[39m)\n\u001b[32m     29\u001b[39m nx.draw_networkx_nodes(graph, ax=ax, node_size=\u001b[32m50\u001b[39m, pos=pos, edgecolors=\u001b[33m'\u001b[39m\u001b[33mblack\u001b[39m\u001b[33m'\u001b[39m, node_color=colors, linewidths=\u001b[32m0.5\u001b[39m)\n",
      "\u001b[36mFile \u001b[39m\u001b[32m~/Documents/overdrive/notebooks/utils.py:37\u001b[39m, in \u001b[36mget_graph_colors\u001b[39m\u001b[34m(graph, df, field, palette)\u001b[39m\n\u001b[32m     36\u001b[39m \u001b[38;5;28;01mdef\u001b[39;00m\u001b[38;5;250m \u001b[39m\u001b[34mget_graph_colors\u001b[39m(graph, df:pd.DataFrame, field:\u001b[38;5;28mstr\u001b[39m=\u001b[38;5;28;01mNone\u001b[39;00m, palette:\u001b[38;5;28mdict\u001b[39m=\u001b[38;5;28;01mNone\u001b[39;00m):\n\u001b[32m---> \u001b[39m\u001b[32m37\u001b[39m     values = df.loc[\u001b[38;5;28mlist\u001b[39m(graph.nodes)][field] \u001b[38;5;66;03m# Get the field values for each node. \u001b[39;00m\n\u001b[32m     38\u001b[39m     \u001b[38;5;66;03m# colors = colors.map(palette)\u001b[39;00m\n\u001b[32m     39\u001b[39m     colors = [palette[value] \u001b[38;5;28;01mfor\u001b[39;00m value \u001b[38;5;129;01min\u001b[39;00m values]\n",
      "\u001b[36mFile \u001b[39m\u001b[32m~/miniconda3/envs/overdrive/lib/python3.13/site-packages/pandas/core/indexing.py:1191\u001b[39m, in \u001b[36m_LocationIndexer.__getitem__\u001b[39m\u001b[34m(self, key)\u001b[39m\n\u001b[32m   1189\u001b[39m maybe_callable = com.apply_if_callable(key, \u001b[38;5;28mself\u001b[39m.obj)\n\u001b[32m   1190\u001b[39m maybe_callable = \u001b[38;5;28mself\u001b[39m._check_deprecated_callable_usage(key, maybe_callable)\n\u001b[32m-> \u001b[39m\u001b[32m1191\u001b[39m \u001b[38;5;28;01mreturn\u001b[39;00m \u001b[38;5;28mself\u001b[39m._getitem_axis(maybe_callable, axis=axis)\n",
      "\u001b[36mFile \u001b[39m\u001b[32m~/miniconda3/envs/overdrive/lib/python3.13/site-packages/pandas/core/indexing.py:1420\u001b[39m, in \u001b[36m_LocIndexer._getitem_axis\u001b[39m\u001b[34m(self, key, axis)\u001b[39m\n\u001b[32m   1417\u001b[39m     \u001b[38;5;28;01mif\u001b[39;00m \u001b[38;5;28mhasattr\u001b[39m(key, \u001b[33m\"\u001b[39m\u001b[33mndim\u001b[39m\u001b[33m\"\u001b[39m) \u001b[38;5;129;01mand\u001b[39;00m key.ndim > \u001b[32m1\u001b[39m:\n\u001b[32m   1418\u001b[39m         \u001b[38;5;28;01mraise\u001b[39;00m \u001b[38;5;167;01mValueError\u001b[39;00m(\u001b[33m\"\u001b[39m\u001b[33mCannot index with multidimensional key\u001b[39m\u001b[33m\"\u001b[39m)\n\u001b[32m-> \u001b[39m\u001b[32m1420\u001b[39m     \u001b[38;5;28;01mreturn\u001b[39;00m \u001b[38;5;28mself\u001b[39m._getitem_iterable(key, axis=axis)\n\u001b[32m   1422\u001b[39m \u001b[38;5;66;03m# nested tuple slicing\u001b[39;00m\n\u001b[32m   1423\u001b[39m \u001b[38;5;28;01mif\u001b[39;00m is_nested_tuple(key, labels):\n",
      "\u001b[36mFile \u001b[39m\u001b[32m~/miniconda3/envs/overdrive/lib/python3.13/site-packages/pandas/core/indexing.py:1360\u001b[39m, in \u001b[36m_LocIndexer._getitem_iterable\u001b[39m\u001b[34m(self, key, axis)\u001b[39m\n\u001b[32m   1357\u001b[39m \u001b[38;5;28mself\u001b[39m._validate_key(key, axis)\n\u001b[32m   1359\u001b[39m \u001b[38;5;66;03m# A collection of keys\u001b[39;00m\n\u001b[32m-> \u001b[39m\u001b[32m1360\u001b[39m keyarr, indexer = \u001b[38;5;28mself\u001b[39m._get_listlike_indexer(key, axis)\n\u001b[32m   1361\u001b[39m \u001b[38;5;28;01mreturn\u001b[39;00m \u001b[38;5;28mself\u001b[39m.obj._reindex_with_indexers(\n\u001b[32m   1362\u001b[39m     {axis: [keyarr, indexer]}, copy=\u001b[38;5;28;01mTrue\u001b[39;00m, allow_dups=\u001b[38;5;28;01mTrue\u001b[39;00m\n\u001b[32m   1363\u001b[39m )\n",
      "\u001b[36mFile \u001b[39m\u001b[32m~/miniconda3/envs/overdrive/lib/python3.13/site-packages/pandas/core/indexing.py:1558\u001b[39m, in \u001b[36m_LocIndexer._get_listlike_indexer\u001b[39m\u001b[34m(self, key, axis)\u001b[39m\n\u001b[32m   1555\u001b[39m ax = \u001b[38;5;28mself\u001b[39m.obj._get_axis(axis)\n\u001b[32m   1556\u001b[39m axis_name = \u001b[38;5;28mself\u001b[39m.obj._get_axis_name(axis)\n\u001b[32m-> \u001b[39m\u001b[32m1558\u001b[39m keyarr, indexer = ax._get_indexer_strict(key, axis_name)\n\u001b[32m   1560\u001b[39m \u001b[38;5;28;01mreturn\u001b[39;00m keyarr, indexer\n",
      "\u001b[36mFile \u001b[39m\u001b[32m~/miniconda3/envs/overdrive/lib/python3.13/site-packages/pandas/core/indexes/base.py:6212\u001b[39m, in \u001b[36mIndex._get_indexer_strict\u001b[39m\u001b[34m(self, key, axis_name)\u001b[39m\n\u001b[32m   6209\u001b[39m \u001b[38;5;28;01melse\u001b[39;00m:\n\u001b[32m   6210\u001b[39m     keyarr, indexer, new_indexer = \u001b[38;5;28mself\u001b[39m._reindex_non_unique(keyarr)\n\u001b[32m-> \u001b[39m\u001b[32m6212\u001b[39m \u001b[38;5;28mself\u001b[39m._raise_if_missing(keyarr, indexer, axis_name)\n\u001b[32m   6214\u001b[39m keyarr = \u001b[38;5;28mself\u001b[39m.take(indexer)\n\u001b[32m   6215\u001b[39m \u001b[38;5;28;01mif\u001b[39;00m \u001b[38;5;28misinstance\u001b[39m(key, Index):\n\u001b[32m   6216\u001b[39m     \u001b[38;5;66;03m# GH 42790 - Preserve name from an Index\u001b[39;00m\n",
      "\u001b[36mFile \u001b[39m\u001b[32m~/miniconda3/envs/overdrive/lib/python3.13/site-packages/pandas/core/indexes/base.py:6264\u001b[39m, in \u001b[36mIndex._raise_if_missing\u001b[39m\u001b[34m(self, key, indexer, axis_name)\u001b[39m\n\u001b[32m   6261\u001b[39m     \u001b[38;5;28;01mraise\u001b[39;00m \u001b[38;5;167;01mKeyError\u001b[39;00m(\u001b[33mf\u001b[39m\u001b[33m\"\u001b[39m\u001b[33mNone of [\u001b[39m\u001b[38;5;132;01m{\u001b[39;00mkey\u001b[38;5;132;01m}\u001b[39;00m\u001b[33m] are in the [\u001b[39m\u001b[38;5;132;01m{\u001b[39;00maxis_name\u001b[38;5;132;01m}\u001b[39;00m\u001b[33m]\u001b[39m\u001b[33m\"\u001b[39m)\n\u001b[32m   6263\u001b[39m not_found = \u001b[38;5;28mlist\u001b[39m(ensure_index(key)[missing_mask.nonzero()[\u001b[32m0\u001b[39m]].unique())\n\u001b[32m-> \u001b[39m\u001b[32m6264\u001b[39m \u001b[38;5;28;01mraise\u001b[39;00m \u001b[38;5;167;01mKeyError\u001b[39;00m(\u001b[33mf\u001b[39m\u001b[33m\"\u001b[39m\u001b[38;5;132;01m{\u001b[39;00mnot_found\u001b[38;5;132;01m}\u001b[39;00m\u001b[33m not in index\u001b[39m\u001b[33m\"\u001b[39m)\n",
      "\u001b[31mKeyError\u001b[39m: \"['type_ivc_var17', 'type_ivb_var18', 'type_iii_var15', 'type_ii_var9', 'type_ib_var10', 'type_ii_var16'] not in index\""
     ]
    },
    {
     "data": {
      "image/png": "[encoded data removed]",
      "text/plain": [
       "<Figure size 800x500 with 1 Axes>"
      ]
     },
     "metadata": {},
     "output_type": "display_data"
    }
   ],
   "source": [
    "# We can see that identical upstream regions are generally limited to plasmids of the same type, with the exception\n",
    "# of some which are found in both Type 1a and Type 1b plasmids, as well as Type 1a and Type III. \n",
    "\n",
    "# Would be useful to look at how exactly these regions compare. Because most of the overdrive variants correspond to a single\n",
    "# plasmid type, it is probably OK to drop (variant, plasmid_type) duplicates. \n",
    "\n",
    "def figure(overdrive_df, palette=palette):\n",
    "\n",
    "    get_id = lambda row : row.plasmid_type.split('(')[0].strip().lower().replace(' ', '_') + f'_var{row.variant}'\n",
    "\n",
    "    figure_df = overdrive_df.copy()\n",
    "    figure_df = figure_df.sort_values('plasmid_class')\n",
    "    figure_df = figure_df.drop_duplicates(['variant', 'plasmid_type'])\n",
    "    figure_df['id'] = [get_id(row) for row in figure_df.itertuples()]\n",
    "    FASTAFile(df=figure_df.set_index('id')).write('../data/data-1/figure_2.fn')\n",
    "    figure_df = figure_df.set_index('id')\n",
    "\n",
    "    align_df = load_align('../data/data-1/figure_2_align.tsv')\n",
    "    \n",
    "    graph = get_alignment_graph(align_df, order=figure_df.index.values)\n",
    "    alignment_groups = nx.connected_components(graph)\n",
    "\n",
    "    fig, ax = plt.subplots(figsize=(8, 5))\n",
    "\n",
    "    pos = get_layout(graph)\n",
    "\n",
    "    colors = get_graph_colors(graph, figure_df, field='plasmid_type', palette=palette)\n",
    "    nx.draw_networkx_edges(graph, ax=ax, pos=pos, edge_color='lightgray', width=0.5)\n",
    "    nx.draw_networkx_nodes(graph, ax=ax, node_size=50, pos=pos, edgecolors='black', node_color=colors, linewidths=0.5)\n",
    "\n",
    "    legend_labels = figure_df.plasmid_type.unique()\n",
    "    legend_handles = [mpl.lines.Line2D([None], [None], ls='none', markersize=5, marker='o', markeredgewidth=0.5, markeredgecolor='black', markerfacecolor=palette.get(label)) for label in legend_labels]\n",
    "    ax.legend(legend_handles, legend_labels, fontsize='small', bbox_to_anchor=(1.05, 1.05))\n",
    "\n",
    "    for _, spine in ax.spines.items():\n",
    "        spine.set_visible(False)\n",
    "\n",
    "    plt.show()\n",
    "\n",
    "    return align_df, alignment_groups\n",
    "\n",
    "align_df, alignment_groups = figure(overdrive_df)"
   ]
  },
  {
   "cell_type": "code",
   "execution_count": null,
   "id": "a8fe5594",
   "metadata": {},
   "outputs": [],
   "source": [
    "# for group, df in overdrive_df.groupby('group'):\n",
    "#     if ('Ri' in df.plasmid_type) and ('Ti' in df.plasmid_type):\n",
    "#         print(f'Group {group} contains both Ti and Ri plasmids.')"
   ]
  },
  {
   "cell_type": "code",
   "execution_count": null,
   "id": "48cb8569",
   "metadata": {},
   "outputs": [],
   "source": [
    "# # It seems like locating some kind of common motif is essential for further analysis, based on uncertainty regarding the presence\n",
    "# # and/or starting location of the overdrive sequence. Preliminary analysis shows that an exact match for the consensus sequence\n",
    "# # identified by Shurvinton and Ream  (1991) is only present in ~40 of the plasmids. I decided to try a motif search with\n",
    "# # the MEME software suite.\n",
    "# # \n",
    "# # Worth noting that I used the OOPS (one occurrence per sequence) assumption, although not every sequence has an occurrence of the motif. \n",
    "# # Not sure if running with a different assumption (e.g. ZOOPS) would change the results, or if this was the best choice considering that\n",
    "# # there is not one occurrence per sequence. \n",
    "\n",
    "# # meme overdrive_ti.fna -dna -oc . -nostatus -time 14400 -mod oops -nmotifs 3 -minw 5 -maxw 8 -objfun classic -markov_order 0\n",
    "\n",
    "# # The MAST output file contains the identified motifs in each sequence. \n",
    "# overdrive_mast_df = read_csv_chunk('../data/data-1/overdrive_ti_mast.txt', names=['id', 'e_value', 'motif_diagram'])\n",
    "# overdrive_mast_df['strain_id'] = overdrive_mast_df['id'].str.replace(r'_\\d+-\\d+', '', regex=True)\n",
    "# overdrive_mast_df['source_id'] = [f'{strain_id}_ti' for strain_id in overdrive_mast_df['strain_id']]\n",
    "# for i in [1, 2, 3]:\n",
    "#     overdrive_mast_df[f'has_motif_{i}'] = overdrive_mast_df.motif_diagram.str.contains(f'{i}]', regex=False)\n",
    "#     overdrive_df[f'has_motif_{i}'] = overdrive_df.index.map(overdrive_mast_df[f'has_motif_{i}'])\n",
    "\n",
    "# overdrive_ti_df = overdrive_df[overdrive_df.plasmid_class == 'Ti']\n",
    "# print('Num. Ti plasmids:', overdrive_ti_df.source_id.nunique(), end='\\n\\n')\n",
    "\n",
    "# for i in [1, 2, 3]:\n",
    "#     n = overdrive_mast_df.groupby('source_id').apply(lambda df : np.any(df[f'has_motif_{i}']), include_groups=False).sum()\n",
    "#     print(f'Num. Ti plasmids with motif {i}:', n)\n",
    "\n",
    "# overdrive_motif_1_df = read_csv_chunk('../data/data-1/overdrive_ti_meme.txt', names=['id', 'start', 'p_value', 'site_1', 'site_2', 'site_3'], start_line=296, end_line=694)\n",
    "# motif_1 = overdrive_motif_1_df.site_2.iloc[0]\n",
    "# overdrive_motif_1_df.sort_values('p_value', ascending=False)\n",
    "\n",
    "# with open('../data/data-1/overdrive_ti_motif_1.fna', 'w') as f:\n",
    "#     content = ''\n",
    "#     for row in overdrive_motif_1_df.itertuples():\n",
    "#         content += f'>{getattr(row, 'id')}\\n'\n",
    "\n",
    "#         seq = f'{row.site_1}{row.site_2}{row.site_3}'.replace('.', '')\n",
    "#         content += f'{seq}\\n'\n",
    "#     f.write(content)\n",
    "\n",
    "# # The motif seems to be the same as that identified by Shurvinton and Ream. It (or a variation) is identified at least once in every Ti plasmid\n",
    "# # It is unclear if the region to the left or right of the consensus is important for overdrive functionality. Notably, some of the identified motifs\n",
    "# # are immediately adjacent to the right border, which seems to imply that the left region is not universally important. \n",
    "# print('\\nMotif 1:', motif_1, f'({overdrive_motif_1_df.site_2.nunique()} variants)')\n"
   ]
  },
  {
   "cell_type": "code",
   "execution_count": null,
   "id": "687972cf",
   "metadata": {},
   "outputs": [],
   "source": [
    "# How to go about the mutual information analysis:\n",
    "# (1) Look at the alignment groups of the RB upstream sequences and try to generate an MSA. \n",
    "# (2) Align the VirC2 from the corresponding assemblies. \n",
    "\n",
    "# There are multiple overdrive sequences and VirC1s in certain strains, so might want to consider every possible pair. \n",
    "\n",
    "# TODO: I don't think there are enough sequences to do reliable mutual information analysis (< 100 sequences in every alignment group).\n",
    "# Might need to look in the NCBI database for more sequences. \n",
    "\n",
    "# def build_paired_msa(alignment_group:int=5, virc_dataset_df:pd.DataFrame=virc_dataset_df, overdrive_df:pd.DataFrame=overdrive_df, data_dir:str='../data/msa'):\n",
    "    \n",
    "#     msa_df = list()\n",
    "\n",
    "#     overdrive_df = overdrive_df[overdrive_df.alignment_group == alignment_group].copy()\n",
    "#     virc_dataset_df = virc_dataset_df[virc_dataset_df['product'].str.contains('virc1', case=False)].copy()\n",
    "\n",
    "#     strain_ids = overdrive_df.strain_id.unique()\n",
    "#     for strain_id in strain_ids:\n",
    "#         od_seqs = overdrive_df[overdrive_df.strain_id == strain_id].seq.values \n",
    "#         virc1_seqs = virc_dataset_df[virc_dataset_df.strain_id == strain_id].seq.values \n",
    "#         for od_seq, virc1_seq in itertools.product(od_seqs, virc1_seqs):\n",
    "#             msa_df.append({'virc1_seq':virc1_seq, 'od_seq':od_seq, 'strain_id':strain_id})\n",
    "\n",
    "#     msa_df = pd.DataFrame(msa_df) # DataFrame contains rows of interaction pairs. \n",
    "#     msa_df.index = msa_df.index.astype(str)\n",
    "\n",
    "#     FASTAFile(df=msa_df.rename(columns={'od_seq':'seq'})).write(f'{data_dir}/od_{alignment_group}.fna')\n",
    "#     FASTAFile(df=msa_df.rename(columns={'virc1_seq':'seq'})).write(f'{data_dir}/virc1_{alignment_group}.fa')\n",
    "\n",
    "#     cmd = '/home/prichter/muscle5.1.linux_intel64'\n",
    "#     if not os.path.exists(f'{data_dir}/od_{alignment_group}.afn'):\n",
    "#         subprocess.run(f'{cmd} -align {data_dir}/od_{alignment_group}.fna -output {data_dir}/od_{alignment_group}.afn', shell=True, check=True, stdout=subprocess.DEVNULL)\n",
    "#     if not os.path.exists(f'{data_dir}/virc1_{alignment_group}.afa'):\n",
    "#         subprocess.run(f'{cmd} -align {data_dir}/virc1_{alignment_group}.fa -output {data_dir}/virc1_{alignment_group}.afa', shell=True, check=True, stdout=subprocess.DEVNULL)\n",
    "\n",
    "#     paired_msa_df = FASTAFile(path=f'{data_dir}/od_{alignment_group}.afn').to_df().rename(columns={'seq':'seq_a'})\n",
    "#     paired_msa_df = pd.concat([paired_msa_df, FASTAFile(path=f'{data_dir}/virc1_{alignment_group}.afa').to_df().rename(columns={'seq':'seq_b'})], axis=1)\n",
    "#     paired_msa_df = paired_msa_df.drop(columns=['description'])\n",
    "#     return paired_msa_df\n",
    "\n",
    "\n",
    "# paired_msa_df = build_paired_msa()"
   ]
  },
  {
   "cell_type": "code",
   "execution_count": null,
   "id": "98ffa442",
   "metadata": {},
   "outputs": [],
   "source": [
    "# has_rb_and_od = lambda df : np.any(df.query_name.str.contains('right_border')) or np.any(df.query_name.str.contains('overdrive'))\n",
    "\n",
    "# def get_hmmer_overdrive_info():\n",
    "#     hmmer_df = pd.concat([HMMerFile(path).to_df() for path in glob.glob('../data/hmmer/*')])\n",
    "#     hmmer_df['length'] = np.where(hmmer_df.strand == '+', hmmer_df.target_to - hmmer_df.target_from, hmmer_df.target_from - hmmer_df.target_to)\n",
    "#     hmmer_df['length'] = hmmer_df.length + 1 # Add one for the indexing. \n",
    "\n",
    "#     df = list()\n",
    "#     for contig_id, hmmer_df_ in hmmer_df.groupby('target_name'): # Group by hits which are on the same contig. \n",
    "#         # Going to want to filter out all of the distances which are outliers, these will be due to the fact that there might be multiple\n",
    "#         # overdrive sequences and RBs in a single plasmid. \n",
    "#         rb_rows = list(hmmer_df_[hmmer_df_.query_name.str.contains('right_border')].itertuples()) # Overdrive sequences are adjacent to the right border. \n",
    "#         od_rows =  list(hmmer_df_[hmmer_df_.query_name.str.contains('overdrive')].itertuples())\n",
    "\n",
    "#         for rb_row, od_row in itertools.product(rb_rows, od_rows):\n",
    "#             if rb_row.strand != od_row.strand:\n",
    "#                 continue # Must be on the same strand. \n",
    "#             if (rb_row.strand == '+'):\n",
    "#                 d = od_row.target_from - rb_row.target_to\n",
    "#             elif (rb_row.strand == '-'):\n",
    "#                 d = rb_row.target_to - od_row.target_from\n",
    "#             df.append({'contig_id':contig_id, 'dist_from_rb':d, 'strand':rb_row.strand, 'od_length':od_row.length}) \n",
    "    \n",
    "#     df = pd.DataFrame(df)\n",
    "#     df = df[(df.dist_from_rb > 0)].copy() # Remove anything negative, which I don't think should happen. \n",
    "#     df = df.sort_values('dist_from_rb').drop_duplicates('contig_id', keep='first') # Pick the sequence with the smallest separation on each contig. \n",
    "#     return df\n",
    "\n",
    "# get_hmmer_overdrive_info()"
   ]
  },
  {
   "cell_type": "code",
   "execution_count": null,
   "id": "55fc8fbe",
   "metadata": {},
   "outputs": [],
   "source": [
    "# The upstream regions are too highly-conserved amongst the alignment groups to do reasonable analysis with mutual information. \n",
    "# Most of the positions have zero entropy (i.e. contain no usable information) because they are all identical. Also, the alignment\n",
    "# groups are far too small. \n",
    "\n",
    "# Because there is uncertainty about where the overdrive sequence might start, it doesn't makes sense to use the entire\n",
    "# upstream region. You'd basically be asking \"which positions in the upstream region are associated with which residues in VirC, and \n",
    "# if we think the location of the overdrive sequence is not conserved, this won't be interpretable. \n",
    "\n",
    "# fig, ax = plt.subplots()\n",
    "\n",
    "# cmap = mpl.colormaps.get_cmap('tab20c')\n",
    "# cmap = cmap.resampled(3)\n",
    "# # palette = [cmap(i) for i in np.linspace(0, 1, metadata_df[field].dropna().nunique())] # Get colors for the palette.\n",
    "# palette = {biovar:cmap(i) for i, biovar in enumerate(['BV1', 'BV2', 'BV3'])} # Map each category to a color. \n",
    "\n",
    "# figure_df = metadata_df[metadata_df.biovar.isin(['BV1', 'BV2', 'BV3'])].copy()\n",
    "# figure_df = figure_df[figure_df.plasmid_class == 'Ti'].copy()\n",
    "# sns.histplot(figure_df, x='plasmid_type', hue='biovar', multiple='dodge', palette=palette, ax=ax)\n",
    "# ax.set_xticks(np.arange(len(ax.get_xticklabels())), labels=ax.get_xticklabels(), rotation=45)\n",
    "# plt.show()\n"
   ]
  },
  {
   "cell_type": "code",
   "execution_count": null,
   "id": "d4e64c9d",
   "metadata": {},
   "outputs": [],
   "source": [
    "# # ! mmseqs easy-cluster ../data/virc1.fa ../data/mmseqs/virc1 ../data/mmseqs/tmp/ --min-seq-id 0.99\n",
    "# virc1_cluster_df = pd.read_csv('../data/mmseqs/virc1_cluster.tsv', sep='\\t', header=None, names=['cluster_rep', 'id'])\n",
    "# virc1_cluster_df['cluster_id'] = virc1_cluster_df.cluster_rep.map({id_:f'virc1_group_{i}' for i, id_ in enumerate(virc1_cluster_df.cluster_rep.unique())})\n",
    "# print('Num. VirC1 clusters:', virc1_cluster_df.cluster_rep.nunique())\n",
    "\n",
    "# overdrive_df['virc1_cluster_id'] = overdrive_df.index.map(virc1_cluster_df.set_index('id').cluster_id)\n",
    "# overdrive_df['virc1_cluster_id'] = overdrive_df.virc1_cluster_id.fillna('none')\n",
    "\n",
    "# # ! mmseqs easy-cluster ../data/virc2.fa ../data/mmseqs/virc2 ../data/mmseqs/tmp/ --min-seq-id 0.99\n",
    "# virc2_cluster_df = pd.read_csv('../data/mmseqs/virc2_cluster.tsv', sep='\\t', header=None, names=['cluster_rep', 'id'])\n",
    "# virc2_cluster_df['cluster_id'] = virc2_cluster_df.cluster_rep.map({id_:f'virc2_group_{i}' for i, id_ in enumerate(virc2_cluster_df.cluster_rep.unique())})\n",
    "# print('Num. VirC2 clusters:', virc2_cluster_df.cluster_rep.nunique())\n",
    "\n",
    "# overdrive_df['virc2_cluster_id'] = overdrive_df.index.map(virc2_cluster_df.set_index('id').cluster_id)\n",
    "# overdrive_df['virc2_cluster_id'] = overdrive_df.virc2_cluster_id.fillna('none')"
   ]
  },
  {
   "cell_type": "code",
   "execution_count": null,
   "id": "467cae21",
   "metadata": {},
   "outputs": [],
   "source": [
    "# def get_overlapping_right_borders(hmmer_df:pd.DataFrame):\n",
    "#     right_border_df = hmmer_df[hmmer_df.annotation.str.contains('right_border')].copy()\n",
    "    \n",
    "#     for row in right_border_df.itertuples():\n",
    "#         is_overlapping = lambda start, stop : not ((row.start > stop) or (row.stop < start))\n",
    "#         get_separation = lambda start, stop :  (start - row.stop) if ((start - row.stop) > 0) else (row.start - stop)\n",
    "\n",
    "#         # Get all right border hits which overlap with the HMM hit in row. Should be at least one. \n",
    "#         df_ = right_border_df[right_border_df.target_name == row.target_name].copy() # Filter for hits on the same sequence. \n",
    "#         df_['overlapping'] = [is_overlapping(row_.start, row_.stop) for row_ in df_.itertuples()]\n",
    "#         df_['separation'] = np.where(df_.overlapping, 0, [get_separation(row_.start, row_.stop) for row_ in df_.itertuples()])\n",
    "        \n",
    "#         assert df_.overlapping.sum() == 1, 'get_overlapping_right_borders: There should be exactly one overlapping HMM hit.'\n",
    "#         df_ = df_[~df_.overlapping].copy()\n",
    "#         if len(df_) > 1:\n",
    "#             print(df_.separation.values.tolist())"
   ]
  },
  {
   "cell_type": "code",
   "execution_count": null,
   "id": "2568190e",
   "metadata": {},
   "outputs": [],
   "source": [
    "# def figure(overdrive_df, align_df, palette:dict=palette):\n",
    "\n",
    "#     get_id = lambda row : row.plasmid_type.split('(')[0].strip().lower().replace(' ', '_') + f'_var{row.variant}'\n",
    "    \n",
    "#     overdrive_df = overdrive_df.copy()\n",
    "#     overdrive_df = overdrive_df.sort_values('plasmid_class')\n",
    "#     overdrive_df = overdrive_df.drop_duplicates(['variant', 'plasmid_type'])\n",
    "#     overdrive_df['id'] = [get_id(row) for row in overdrive_df.itertuples()]\n",
    "#     overdrive_df = overdrive_df.set_index('id')\n",
    "\n",
    "#     figure_df = align_df.copy()\n",
    "#     figure_df['target_plasmid_type'] = align_df['target'].map(overdrive_df.plasmid_type)\n",
    "#     figure_df['query_plasmid_type'] = align_df['query'].map(overdrive_df.plasmid_type)\n",
    "#     figure_df['start_offset'] = np.abs(figure_df.qstart - figure_df.tstart)\n",
    "#     figure_df = figure_df[figure_df.start_offset > 0].copy()\n",
    "\n",
    "#     fig, (ax_a, ax_b) = plt.subplots(ncols=2, figsize=(10, 5))\n",
    "\n",
    "#     ax_df = figure_df.copy()\n",
    "#     ax_df[ax_df.target_plasmid_type != ax_df.query_plasmid_type][['target_plasmid_type', 'query_plasmid_type', 'qstart', 'tstart', 'qend', 'tend']]\n",
    "#     ax_df['alignment_type'] = [' - '.join(sorted([row.query_plasmid_type, row.target_plasmid_type])) for row in ax_df.itertuples()]\n",
    "#     print(ax_df.start_offset)\n",
    "#     sns.histplot(ax_df, x='start_offset', hue='alignment_type', palette='Grays', multiple='dodge', ax=ax_a)\n",
    "\n",
    "#     ax_df = pd.DataFrame(index=pd.Series(np.concatenate([figure_df[figure_df.qstart > 1]['query'].values, figure_df[figure_df.tstart > 1]['target'].values]), name='id'))\n",
    "#     ax_df['alignment_start'] = np.concatenate([figure_df[figure_df.qstart > 1]['qstart'].values, figure_df[figure_df.tstart > 1]['tstart'].values])\n",
    "#     ax_df['plasmid_type'] = np.concatenate([figure_df[figure_df.qstart > 1]['query_plasmid_type'].values, figure_df[figure_df.tstart > 1]['target_plasmid_type'].values])\n",
    "#     sns.histplot(ax_df, x='alignment_start', hue='plasmid_type', palette=palette, multiple='dodge', ax=ax_b)\n",
    "\n",
    "#     ax_a.set_ylabel('count')\n",
    "#     ax_b.set_ylabel('count')\n",
    "#     fig.tight_layout()\n",
    "#     plt.show()\n",
    "\n",
    "# figure(overdrive_df, align_df)\n",
    "# We observe inconsistent alignment start locations. It could be that the overdrive sequences are at different locations relative to the\n",
    "# right border in different plasmids. However, we also see that many of the plasmids have multiple annotated right borders. \n",
    "# Based on Alex's paper, it seems possible that recombination disrupted the region around the right border, possibly resulting\n",
    "# in poor conservation and inactive T-DNA. "
   ]
  }
 ],
 "metadata": {
  "kernelspec": {
   "display_name": "overdrive",
   "language": "python",
   "name": "python3"
  },
  "language_info": {
   "codemirror_mode": {
    "name": "ipython",
    "version": 3
   },
   "file_extension": ".py",
   "mimetype": "text/x-python",
   "name": "python",
   "nbconvert_exporter": "python",
   "pygments_lexer": "ipython3",
   "version": "3.13.5"
  }
 },
 "nbformat": 4,
 "nbformat_minor": 5
}
